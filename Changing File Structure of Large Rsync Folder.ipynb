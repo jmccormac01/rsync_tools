{
 "cells": [
  {
   "cell_type": "markdown",
   "metadata": {},
   "source": [
    "How to change file structure of large folder that is backed up with Rsync\n",
    "-------------------------------------------------------------------------\n",
    "\n",
    "I found a nice blog on how to change the file structure of a large folder that is backed up with Rsync. The original post can be found [here](https://lincolnloop.com/blog/detecting-file-moves-renames-rsync/). I am making these notes incase it ever dissappears. \n",
    "\n",
    "   1. Start by making sure you have the same data at both ends by running the normal backup script, e.g. \n",
    "   ```\n",
    "   %> rsync -avzHP ~/local/backup_folder remote_host:remote/backup_folder\n",
    "   ```\n",
    "   1. Make a copy of the local folder as below:\n",
    "   ```\n",
    "   %> cd ~/local\n",
    "   %> cp -rlp backup_folder backup_folder_new\n",
    "   ```\n",
    "   The copy should be ver fast as it is using ```-r``` (recursive), ```-l``` (link, instead of copy) and ```-p``` (preserve mode, ownership, timestamps etc).\n",
    "   1. Reorganise the ```backup_folder_new``` as you please, but don't edit the original ```backup_folder```\n",
    "   1. Now run Rsync as follows:\n",
    "   ```\n",
    "   %> rsync -avzHPn --stats --no-inc-recursive ~/local/backup_folder ~/local/backup_folder_new remote_host:remote/backup_folder\n",
    "   ```\n",
    "   Notice the ```-n``` and ```--stats``` options. The ```-n``` does a dry run and ```--stats``` will show the amount of data to be transfered. This should be 0 Bytes if files were only moved and nothing was added or deleted. By transferring both trees at once and by turning off incremental recursion, rsync collects all hard-links before it transfers anything. It is now able to reconstruct backup_folder_new on the remote machine in fraction of the time to transfer the data.\n",
    "   1. Finally, once you are happy, remove the ```-n``` flag in the command above to let Rsync make the changes. \n",
    "   1. Then to tidy up do the following at both ends:\n",
    "   ```\n",
    "   %> mv backup_folder backup_folder_old\n",
    "   %> mv backup_folder_new backup_folder\n",
    "   ```\n",
    "   1. The ```backup_folder_old``` can be kept for as long as you want, or simply delete it after the transfer. "
   ]
  }
 ],
 "metadata": {
  "kernelspec": {
   "display_name": "Python 3",
   "language": "python",
   "name": "python3"
  },
  "language_info": {
   "codemirror_mode": {
    "name": "ipython",
    "version": 3
   },
   "file_extension": ".py",
   "mimetype": "text/x-python",
   "name": "python",
   "nbconvert_exporter": "python",
   "pygments_lexer": "ipython3",
   "version": "3.5.1"
  }
 },
 "nbformat": 4,
 "nbformat_minor": 1
}
